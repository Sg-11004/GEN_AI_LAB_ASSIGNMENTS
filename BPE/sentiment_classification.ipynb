{
 "cells": [
  {
   "cell_type": "code",
   "execution_count": null,
   "metadata": {},
   "outputs": [],
   "source": [
    "from transformers import pipeline\n",
    "\n",
    "sentiment_pipeline = pipeline(\"sentiment-analysis\")\n",
    "\n",
    "sentences = [\n",
    "    \"The presentation was fantastic, and everyone loved it.\",\n",
    "    \"I am so happy with the outcome of the project!\",\n",
    "    \"I felt really disappointed with the way the event turned out.\",\n",
    "    \"The product quality was terrible and not worth the money.\",\n",
    "    \"The weather today is average, neither too hot nor too cold.\",\n",
    "    \"The meeting was held as scheduled without any changes.\",\n",
    "    \"She received a lot of praise for her hard work and dedication.\",\n",
    "    \"The service was extremely slow and left me frustrated.\",\n",
    "    \"The book was neither engaging nor boring; it was just okay.\",\n",
    "    \"I am very excited about the upcoming vacation.\"\n",
    "]\n",
    "\n",
    "results = sentiment_pipeline(sentences)\n",
    "\n",
    "for i, sentence in enumerate(sentences):\n",
    "    print()\n",
    "    print(f\"Sentence: '{sentence}' -> Sentiment: {results[i]['label']}, Score: {results[i]['score']:.4f}\")\n"
   ]
  }
 ],
 "metadata": {
  "kernelspec": {
   "display_name": "base",
   "language": "python",
   "name": "python3"
  },
  "language_info": {
   "codemirror_mode": {
    "name": "ipython",
    "version": 3
   },
   "file_extension": ".py",
   "mimetype": "text/x-python",
   "name": "python",
   "nbconvert_exporter": "python",
   "pygments_lexer": "ipython3",
   "version": "3.11.5"
  }
 },
 "nbformat": 4,
 "nbformat_minor": 2
}
