{
 "cells": [
  {
   "cell_type": "code",
   "execution_count": 14,
   "metadata": {},
   "outputs": [],
   "source": [
    "import numpy as np\n",
    "import matplotlib.pyplot as plt\n",
    "from tensorflow.keras import datasets, layers, models\n",
    "from tensorflow.keras.callbacks import EarlyStopping\n",
    "from tensorflow.keras.optimizers import Adam\n",
    "from sklearn.model_selection import train_test_split\n",
    "from tensorflow.keras import regularizers\n",
    "from tensorflow.keras.models import Sequential\n",
    "from tensorflow.keras.layers import Dense, Dropout, Flatten, Conv2D, MaxPooling2D\n"
   ]
  },
  {
   "cell_type": "code",
   "execution_count": null,
   "metadata": {},
   "outputs": [],
   "source": [
    "# Load MNIST dataset\n",
    "(x_train, y_train), (x_test, y_test) = datasets.mnist.load_data()\n",
    "x_train = x_train.reshape((x_train.shape[0], 28, 28, 1)).astype('float32') / 255\n",
    "x_test = x_test.reshape((x_test.shape[0], 28, 28, 1)).astype('float32') / 255\n",
    "from tensorflow.keras.utils import to_categorical\n",
    "y_train = to_categorical(y_train)\n",
    "y_test = to_categorical(y_test)\n",
    "x_train, x_val, y_train, y_val = train_test_split(x_train, y_train, test_size=0.1, random_state=42)\n"
   ]
  },
  {
   "cell_type": "code",
   "execution_count": null,
   "metadata": {},
   "outputs": [],
   "source": [
    "def create_cnn_model():\n",
    "    model = Sequential()\n",
    "    model.add(Conv2D(32, (3, 3), activation='relu', input_shape=(28, 28, 1)))\n",
    "    model.add(MaxPooling2D((2, 2)))\n",
    "    model.add(Dropout(0.25))\n",
    "    model.add(Conv2D(64, (3, 3), activation='relu'))\n",
    "    model.add(MaxPooling2D((2, 2)))\n",
    "    model.add(Dropout(0.25))\n",
    "    model.add(Conv2D(64, (3, 3), activation='relu'))\n",
    "    model.add(MaxPooling2D((2, 2)))\n",
    "    model.add(Dropout(0.25))\n",
    "    model.add(Flatten())\n",
    "    model.add(Dense(64, activation='relu', kernel_regularizer=regularizers.l2(0.01)))\n",
    "    model.add(Dropout(0.5))\n",
    "    model.add(Dense(10, activation='softmax'))\n",
    "    model.compile(optimizer=Adam(), loss='categorical_crossentropy', metrics=['accuracy'])\n",
    "    return model\n"
   ]
  },
  {
   "cell_type": "code",
   "execution_count": null,
   "metadata": {},
   "outputs": [],
   "source": [
    "early_stopping = EarlyStopping(monitor='val_loss', patience=3, restore_best_weights=True)"
   ]
  },
  {
   "cell_type": "code",
   "execution_count": null,
   "metadata": {},
   "outputs": [
    {
     "name": "stdout",
     "output_type": "stream",
     "text": [
      "Epoch 1/20\n",
      "844/844 [==============================] - 21s 22ms/step - loss: 0.8875 - accuracy: 0.7658 - val_loss: 0.2287 - val_accuracy: 0.9567\n",
      "Epoch 2/20\n",
      "844/844 [==============================] - 18s 21ms/step - loss: 0.3302 - accuracy: 0.9239 - val_loss: 0.1502 - val_accuracy: 0.9680\n",
      "Epoch 3/20\n",
      "844/844 [==============================] - 17s 21ms/step - loss: 0.2545 - accuracy: 0.9403 - val_loss: 0.1216 - val_accuracy: 0.9748\n",
      "Epoch 4/20\n",
      "844/844 [==============================] - 16s 19ms/step - loss: 0.2145 - accuracy: 0.9503 - val_loss: 0.1106 - val_accuracy: 0.9777\n",
      "Epoch 5/20\n",
      "844/844 [==============================] - 15s 18ms/step - loss: 0.1965 - accuracy: 0.9543 - val_loss: 0.1012 - val_accuracy: 0.9787\n",
      "Epoch 6/20\n",
      "844/844 [==============================] - 17s 20ms/step - loss: 0.1824 - accuracy: 0.9568 - val_loss: 0.0985 - val_accuracy: 0.9810\n",
      "Epoch 7/20\n",
      "844/844 [==============================] - 20s 24ms/step - loss: 0.1714 - accuracy: 0.9621 - val_loss: 0.0874 - val_accuracy: 0.9815\n",
      "Epoch 8/20\n",
      "844/844 [==============================] - 17s 21ms/step - loss: 0.1610 - accuracy: 0.9628 - val_loss: 0.0862 - val_accuracy: 0.9820\n",
      "Epoch 9/20\n",
      "844/844 [==============================] - 18s 21ms/step - loss: 0.1523 - accuracy: 0.9658 - val_loss: 0.0806 - val_accuracy: 0.9830\n",
      "Epoch 10/20\n",
      "844/844 [==============================] - 18s 21ms/step - loss: 0.1448 - accuracy: 0.9674 - val_loss: 0.0774 - val_accuracy: 0.9848\n",
      "Epoch 11/20\n",
      "844/844 [==============================] - 17s 20ms/step - loss: 0.1396 - accuracy: 0.9694 - val_loss: 0.0806 - val_accuracy: 0.9837\n",
      "Epoch 12/20\n",
      "844/844 [==============================] - 19s 23ms/step - loss: 0.1351 - accuracy: 0.9708 - val_loss: 0.0785 - val_accuracy: 0.9838\n",
      "Epoch 13/20\n",
      "844/844 [==============================] - 18s 21ms/step - loss: 0.1349 - accuracy: 0.9701 - val_loss: 0.0804 - val_accuracy: 0.9845\n"
     ]
    }
   ],
   "source": [
    "cnn_model = create_cnn_model()\n",
    "history = cnn_model.fit(\n",
    "    x_train, y_train,\n",
    "    epochs=20,\n",
    "    batch_size=64,\n",
    "    validation_data=(x_val, y_val),\n",
    "    callbacks=[early_stopping]\n",
    ")\n"
   ]
  },
  {
   "cell_type": "code",
   "execution_count": null,
   "metadata": {},
   "outputs": [
    {
     "name": "stdout",
     "output_type": "stream",
     "text": [
      "313/313 [==============================] - 1s 4ms/step - loss: 0.0757 - accuracy: 0.9855\n",
      "Test Accuracy: 98.55%\n"
     ]
    }
   ],
   "source": [
    "test_loss, test_acc = cnn_model.evaluate(x_test, y_test)\n",
    "print(f\"Test Accuracy: {test_acc * 100:.2f}%\")"
   ]
  }
 ],
 "metadata": {
  "kernelspec": {
   "display_name": "base",
   "language": "python",
   "name": "python3"
  },
  "language_info": {
   "codemirror_mode": {
    "name": "ipython",
    "version": 3
   },
   "file_extension": ".py",
   "mimetype": "text/x-python",
   "name": "python",
   "nbconvert_exporter": "python",
   "pygments_lexer": "ipython3",
   "version": "3.11.5"
  }
 },
 "nbformat": 4,
 "nbformat_minor": 2
}
